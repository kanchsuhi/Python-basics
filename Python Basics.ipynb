{
 "cells": [
  {
   "cell_type": "code",
   "execution_count": 3,
   "metadata": {},
   "outputs": [
    {
     "name": "stdout",
     "output_type": "stream",
     "text": [
      "Hello World...!\n"
     ]
    }
   ],
   "source": [
    "print(\"Hello World...!\") #python 3 syntax"
   ]
  },
  {
   "cell_type": "code",
   "execution_count": 4,
   "metadata": {},
   "outputs": [
    {
     "ename": "SyntaxError",
     "evalue": "Missing parentheses in call to 'print'. Did you mean print(\"Hello\" #Python 2 syntax)? (<ipython-input-4-0ac2b9750cd1>, line 1)",
     "output_type": "error",
     "traceback": [
      "\u001b[0;36m  File \u001b[0;32m\"<ipython-input-4-0ac2b9750cd1>\"\u001b[0;36m, line \u001b[0;32m1\u001b[0m\n\u001b[0;31m    print \"Hello\" #Python 2 syntax\u001b[0m\n\u001b[0m                ^\u001b[0m\n\u001b[0;31mSyntaxError\u001b[0m\u001b[0;31m:\u001b[0m Missing parentheses in call to 'print'. Did you mean print(\"Hello\" #Python 2 syntax)?\n"
     ]
    }
   ],
   "source": [
    "print \"Hello\" #Python 2 syntax"
   ]
  },
  {
   "cell_type": "code",
   "execution_count": 5,
   "metadata": {},
   "outputs": [
    {
     "data": {
      "text/plain": [
       "15"
      ]
     },
     "execution_count": 5,
     "metadata": {},
     "output_type": "execute_result"
    }
   ],
   "source": [
    "5+10"
   ]
  },
  {
   "cell_type": "code",
   "execution_count": 11,
   "metadata": {},
   "outputs": [
    {
     "name": "stdout",
     "output_type": "stream",
     "text": [
      "[1, 2, 3, 4, 5]\n",
      "3\n",
      "[3, 4]\n",
      "5\n"
     ]
    }
   ],
   "source": [
    "numbers=[1,2,3,4,5] #list data structure\n",
    "print(numbers)\n",
    "print(numbers[2])\n",
    "print(numbers[2:4]) # : slicing operator\n",
    "print(numbers[-1])"
   ]
  },
  {
   "cell_type": "code",
   "execution_count": 17,
   "metadata": {},
   "outputs": [
    {
     "name": "stdout",
     "output_type": "stream",
     "text": [
      "3.0\n",
      "3.141592653589793\n",
      "8.0\n",
      "10\n",
      "5\n",
      "1\n",
      "-0.3048106211022167\n",
      "2.718281828459045\n",
      "1.3862943611198906\n",
      "2.0\n",
      "23.46\n",
      "0.16416669672472028\n",
      "5\n",
      "[5, 1, 3, 4, 2]\n",
      "81\n"
     ]
    }
   ],
   "source": [
    "import math\n",
    "import random\n",
    "import math as m\n",
    "from math import *\n",
    "print(math.sqrt(9))\n",
    "print(math.pi)\n",
    "print(math.pow(2,3))\n",
    "print(abs(-10))\n",
    "print(max(1,2,3,4,5))\n",
    "print(min(1,2,3,4,5))\n",
    "print(math.sin(60))\n",
    "print(math.e)\n",
    "print(math.log(4))\n",
    "print(math.log10(100))\n",
    "print(round(23.45678,2))\n",
    "print(random.random())\n",
    "\n",
    "nums=[1,2,3,4,5]\n",
    "print(random.choice(nums))\n",
    "random.shuffle(nums)\n",
    "print(nums)\n",
    "print(random.randrange(1,100,1))"
   ]
  },
  {
   "cell_type": "code",
   "execution_count": 28,
   "metadata": {},
   "outputs": [
    {
     "name": "stdout",
     "output_type": "stream",
     "text": [
      "Enter a number: 23\n",
      "23 is a prime number\n"
     ]
    }
   ],
   "source": [
    "import math\n",
    "num = int(input(\"Enter a number: \"))\n",
    "\n",
    "# prime numbers are greater than 1\n",
    "if num > 1:\n",
    "   # check for factors\n",
    "6   for i in range(2,(num//2)+1):\n",
    "       if (num % i) == 0:\n",
    "           print(num,\"is not a prime number\")\n",
    "           break\n",
    "   else:\n",
    "       print(num,\"is a prime number\")\n",
    "       \n",
    "# if input number is less than\n",
    "# or equal to 1, it is not prime\n",
    "else:\n",
    "   print(num,\"is not a prime number\")"
   ]
  },
  {
   "cell_type": "code",
   "execution_count": 19,
   "metadata": {},
   "outputs": [
    {
     "name": "stdout",
     "output_type": "stream",
     "text": [
      "10 male msc 6.2 20 50 10\n",
      "1 2.5 kiran\n"
     ]
    },
    {
     "data": {
      "text/plain": [
       "'\\nStandard datatypes in python\\n1. Numbers\\n2. String\\n3. List\\n4. Tuple\\n5. Dictionary\\n\\nPython supports 4 numerical types\\n1. int\\n2. float\\n3. long\\n4. complex\\n'"
      ]
     },
     "execution_count": 19,
     "metadata": {},
     "output_type": "execute_result"
    }
   ],
   "source": [
    "age=10\n",
    "gender='male'\n",
    "section='msc'\n",
    "height=6.2\n",
    "Gender=20\n",
    "AGE=50\n",
    "_=10\n",
    "print(age,gender,section,height,Gender,AGE,_)\n",
    "\n",
    "x,y,z=1,2.5,\"kiran\"\n",
    "print(x,y,z)\n",
    "\"\"\"\n",
    "Standard datatypes in python\n",
    "1. Numbers\n",
    "2. String\n",
    "3. List\n",
    "4. Tuple\n",
    "5. Dictionary\n",
    "\n",
    "Python supports 4 numerical types\n",
    "1. int\n",
    "2. float\n",
    "3. long\n",
    "4. complex\n",
    "\"\"\"\n"
   ]
  },
  {
   "cell_type": "code",
   "execution_count": 20,
   "metadata": {},
   "outputs": [
    {
     "name": "stdout",
     "output_type": "stream",
     "text": [
      "*****Creating and deleting object references*******\n",
      "10\n"
     ]
    }
   ],
   "source": [
    "print(\"*****Creating and deleting object references*******\")\n",
    "var=10\n",
    "print(var)\n",
    "del var # del keyword used to delete the object reference.\n",
    "print(var)"
   ]
  },
  {
   "cell_type": "code",
   "execution_count": 21,
   "metadata": {},
   "outputs": [
    {
     "name": "stdout",
     "output_type": "stream",
     "text": [
      "******Experiment on String type*******\n",
      "Hello World..!\n",
      "H\n",
      "llo\n",
      "llo World..!\n",
      "Hello World..!Hello World..!\n",
      "Hello World..!TEST\n"
     ]
    }
   ],
   "source": [
    "print(\"******Experiment on String type*******\")\n",
    "str = 'Hello World..!'\n",
    "print(str)          # Prints complete string\n",
    "print(str[0])       # Prints first character of the string\n",
    "print(str[2:5])     # Prints characters starting from 2nd to 5th excludes 5th.\n",
    "print(str[2:])      # Prints string starting from 3rd character\n",
    "print(str * 2)      # Prints string two times\n",
    "print(str + \"TEST\") # Prints concatenated string"
   ]
  },
  {
   "cell_type": "code",
   "execution_count": 22,
   "metadata": {},
   "outputs": [
    {
     "name": "stdout",
     "output_type": "stream",
     "text": [
      "******Python List type**********\n",
      "['abcd', 786, 2.23, 'john', 70.2]\n",
      "abcd\n",
      "[786, 2.23]\n",
      "[2.23, 'john', 70.2]\n",
      "[123, 'john', 123, 'john']\n",
      "['abcd', 786, 2.23, 'john', 70.2, 123, 'john']\n"
     ]
    }
   ],
   "source": [
    "print(\"******Python List type**********\")\n",
    "list = [ 'abcd', 786 , 2.23, 'john', 70.2 ]\n",
    "tinylist = [123, 'john']\n",
    "\n",
    "print(list)          # Prints complete list\n",
    "print(list[0])       # Prints first element of the list\n",
    "print(list[1:3])     # Prints elements starting from 2nd till 4th \n",
    "print(list[2:])      # Prints elements starting from 3rd element\n",
    "print(tinylist * 2)  # Prints list two times\n",
    "print(list + tinylist) # Prints concatenated lists"
   ]
  },
  {
   "cell_type": "code",
   "execution_count": 23,
   "metadata": {},
   "outputs": [
    {
     "name": "stdout",
     "output_type": "stream",
     "text": [
      "******Python Tuple type**********\n",
      "('abcd', 786, 2.23, 'john', 70.2)\n",
      "abcd\n",
      "(786, 2.23)\n",
      "(2.23, 'john', 70.2)\n",
      "(123, 'john', 123, 'john')\n",
      "('abcd', 786, 2.23, 'john', 70.2, 123, 'john')\n"
     ]
    }
   ],
   "source": [
    "print(\"******Python Tuple type**********\")\n",
    "tuple = ( 'abcd', 786 , 2.23, 'john', 70.2  )\n",
    "tinytuple = (123, 'john')\n",
    "\n",
    "print(tuple)           # Prints complete list\n",
    "print(tuple[0])        # Prints first element of the list\n",
    "print(tuple[1:3])      # Prints elements starting from 2nd till 3rd \n",
    "print(tuple[2:])       # Prints elements starting from 3rd element\n",
    "print(tinytuple * 2)   # Prints list two times\n",
    "print(tuple + tinytuple) # Prints concatenated lists"
   ]
  },
  {
   "cell_type": "code",
   "execution_count": 24,
   "metadata": {},
   "outputs": [
    {
     "name": "stdout",
     "output_type": "stream",
     "text": [
      "*****difference between list and tuple\n",
      "list is  ['abcd', 786, 1000, 'john', 70.2]\n",
      "tuple is ('abcd', 786, 2.23, 'john', 70.2)\n"
     ]
    }
   ],
   "source": [
    "print(\"*****difference between list and tuple\")\n",
    "#Difference between list and tuple\n",
    "#tuple[2] = 1000    # Invalid syntax with tuple\n",
    "list[2] = 1000     # Valid syntax with list\n",
    "print(\"list is \",list)\n",
    "print(\"tuple is\",tuple)"
   ]
  },
  {
   "cell_type": "code",
   "execution_count": 25,
   "metadata": {},
   "outputs": [
    {
     "name": "stdout",
     "output_type": "stream",
     "text": [
      "******Python Dictionary Type**********\n",
      "This is one\n",
      "This is two\n",
      "{'name': 'john', 'code': 6734, 'dept': 'sales'}\n",
      "dict_keys(['name', 'code', 'dept'])\n",
      "dict_values(['john', 6734, 'sales'])\n"
     ]
    }
   ],
   "source": [
    "print(\"******Python Dictionary Type**********\")\n",
    "\"\"\"\n",
    "Dictionaries are enclosed by curly braces ({ }) and values can be \n",
    "assigned and accessed using square braces ([]).\n",
    "\"\"\"\n",
    "dict = {}\n",
    "dict['one'] = \"This is one\"\n",
    "dict[2]     = \"This is two\"\n",
    "\n",
    "tinydict = {'name': 'john','code':6734, 'dept': 'sales'}\n",
    "\n",
    "#keys can be any python data type generally numbers and strings.\n",
    "print(dict['one'])       # Prints value for 'one' key\n",
    "print(dict[2])           # Prints value for 2 key\n",
    "print(tinydict)          # Prints complete dictionary\n",
    "print(tinydict.keys())  # Prints all the keys\n",
    "print(tinydict.values()) # Prints all the values"
   ]
  },
  {
   "cell_type": "code",
   "execution_count": 2,
   "metadata": {},
   "outputs": [
    {
     "name": "stdout",
     "output_type": "stream",
     "text": [
      "Enter a string: pyton, data, workshop\n",
      "[' data', ' workshop', 'pyton']\n",
      " data\n",
      " workshop\n",
      "pyton\n"
     ]
    }
   ],
   "source": [
    "my_str = input(\"Enter a string: \")  \n",
    "# breakdown the string into a list of words  \n",
    "words = my_str.split(',')  \n",
    "# sort the list  \n",
    "words.sort()  \n",
    "# display the sorted words  \n",
    "print(words)\n",
    "for i in words:  \n",
    "   print(i)  "
   ]
  },
  {
   "cell_type": "code",
   "execution_count": 1,
   "metadata": {},
   "outputs": [
    {
     "name": "stdout",
     "output_type": "stream",
     "text": [
      "15\n"
     ]
    }
   ],
   "source": [
    "#A lambda function is a small anonymous(no name) function that can take any number of arguments, but can only have one expression\n",
    "x = lambda a : a + 10\n",
    "print(x(5))"
   ]
  },
  {
   "cell_type": "code",
   "execution_count": 2,
   "metadata": {},
   "outputs": [
    {
     "name": "stdout",
     "output_type": "stream",
     "text": [
      "13\n"
     ]
    }
   ],
   "source": [
    "x = lambda a, b, c : a + b + c\n",
    "print(x(5, 6, 2))"
   ]
  },
  {
   "cell_type": "code",
   "execution_count": 3,
   "metadata": {},
   "outputs": [
    {
     "name": "stdout",
     "output_type": "stream",
     "text": [
      "22\n",
      "33\n"
     ]
    }
   ],
   "source": [
    "def myfunc(n):\n",
    "  return lambda a : a * n\n",
    "\n",
    "mydoubler = myfunc(2)\n",
    "mytripler = myfunc(3)\n",
    "\n",
    "print(mydoubler(11)) \n",
    "print(mytripler(11))"
   ]
  },
  {
   "cell_type": "code",
   "execution_count": 4,
   "metadata": {},
   "outputs": [
    {
     "name": "stdout",
     "output_type": "stream",
     "text": [
      "x inside : NCU\n",
      "x outside: NCU\n"
     ]
    }
   ],
   "source": [
    "#global var\n",
    "\n",
    "x = \"NCU\"\n",
    "\n",
    "def foo():\n",
    "    print(\"x inside :\", x)\n",
    "\n",
    "foo()\n",
    "print(\"x outside:\", x)"
   ]
  },
  {
   "cell_type": "code",
   "execution_count": 5,
   "metadata": {},
   "outputs": [
    {
     "ename": "UnboundLocalError",
     "evalue": "local variable 'x' referenced before assignment",
     "output_type": "error",
     "traceback": [
      "\u001b[0;31m-----------------------------------------------------------------\u001b[0m",
      "\u001b[0;31mUnboundLocalError\u001b[0m               Traceback (most recent call last)",
      "\u001b[0;32m<ipython-input-5-1987c97c0186>\u001b[0m in \u001b[0;36m<module>\u001b[0;34m()\u001b[0m\n\u001b[1;32m      4\u001b[0m     \u001b[0mx\u001b[0m \u001b[0;34m=\u001b[0m \u001b[0mx\u001b[0m \u001b[0;34m*\u001b[0m \u001b[0;36m2\u001b[0m\u001b[0;34m\u001b[0m\u001b[0m\n\u001b[1;32m      5\u001b[0m     \u001b[0mprint\u001b[0m\u001b[0;34m(\u001b[0m\u001b[0mx\u001b[0m\u001b[0;34m)\u001b[0m\u001b[0;34m\u001b[0m\u001b[0m\n\u001b[0;32m----> 6\u001b[0;31m \u001b[0mfoo\u001b[0m\u001b[0;34m(\u001b[0m\u001b[0;34m)\u001b[0m\u001b[0;34m\u001b[0m\u001b[0m\n\u001b[0m",
      "\u001b[0;32m<ipython-input-5-1987c97c0186>\u001b[0m in \u001b[0;36mfoo\u001b[0;34m()\u001b[0m\n\u001b[1;32m      2\u001b[0m \u001b[0;34m\u001b[0m\u001b[0m\n\u001b[1;32m      3\u001b[0m \u001b[0;32mdef\u001b[0m \u001b[0mfoo\u001b[0m\u001b[0;34m(\u001b[0m\u001b[0;34m)\u001b[0m\u001b[0;34m:\u001b[0m\u001b[0;34m\u001b[0m\u001b[0m\n\u001b[0;32m----> 4\u001b[0;31m     \u001b[0mx\u001b[0m \u001b[0;34m=\u001b[0m \u001b[0mx\u001b[0m \u001b[0;34m*\u001b[0m \u001b[0;36m2\u001b[0m\u001b[0;34m\u001b[0m\u001b[0m\n\u001b[0m\u001b[1;32m      5\u001b[0m     \u001b[0mprint\u001b[0m\u001b[0;34m(\u001b[0m\u001b[0mx\u001b[0m\u001b[0;34m)\u001b[0m\u001b[0;34m\u001b[0m\u001b[0m\n\u001b[1;32m      6\u001b[0m \u001b[0mfoo\u001b[0m\u001b[0;34m(\u001b[0m\u001b[0;34m)\u001b[0m\u001b[0;34m\u001b[0m\u001b[0m\n",
      "\u001b[0;31mUnboundLocalError\u001b[0m: local variable 'x' referenced before assignment"
     ]
    }
   ],
   "source": [
    "x = \"NCU\"\n",
    "\n",
    "def foo():\n",
    "    x = x * 2\n",
    "    print(x)\n",
    "foo()"
   ]
  },
  {
   "cell_type": "code",
   "execution_count": 6,
   "metadata": {},
   "outputs": [
    {
     "ename": "NameError",
     "evalue": "name 'y' is not defined",
     "output_type": "error",
     "traceback": [
      "\u001b[0;31m-----------------------------------------------------------------\u001b[0m",
      "\u001b[0;31mNameError\u001b[0m                       Traceback (most recent call last)",
      "\u001b[0;32m<ipython-input-6-aecf5994b127>\u001b[0m in \u001b[0;36m<module>\u001b[0;34m()\u001b[0m\n\u001b[1;32m      4\u001b[0m \u001b[0;34m\u001b[0m\u001b[0m\n\u001b[1;32m      5\u001b[0m \u001b[0mfoo\u001b[0m\u001b[0;34m(\u001b[0m\u001b[0;34m)\u001b[0m\u001b[0;34m\u001b[0m\u001b[0m\n\u001b[0;32m----> 6\u001b[0;31m \u001b[0mprint\u001b[0m\u001b[0;34m(\u001b[0m\u001b[0my\u001b[0m\u001b[0;34m)\u001b[0m\u001b[0;34m\u001b[0m\u001b[0m\n\u001b[0m",
      "\u001b[0;31mNameError\u001b[0m: name 'y' is not defined"
     ]
    }
   ],
   "source": [
    "#local var\n",
    "def foo():\n",
    "    y = \"NCU\"\n",
    "\n",
    "foo()\n",
    "print(y)"
   ]
  },
  {
   "cell_type": "code",
   "execution_count": 7,
   "metadata": {},
   "outputs": [
    {
     "name": "stdout",
     "output_type": "stream",
     "text": [
      "NCU\n"
     ]
    }
   ],
   "source": [
    "def foo():\n",
    "    y = \"NCU\"\n",
    "    print(y)\n",
    "\n",
    "foo()\n"
   ]
  },
  {
   "cell_type": "code",
   "execution_count": 9,
   "metadata": {},
   "outputs": [
    {
     "name": "stdout",
     "output_type": "stream",
     "text": [
      "global NCU global NCU \n",
      "local NCU\n"
     ]
    }
   ],
   "source": [
    "x = \"global NCU \"\n",
    "\n",
    "def foo():\n",
    "    global x\n",
    "    y = \"local NCU\"\n",
    "    x = x * 2\n",
    "    print(x)\n",
    "    print(y)\n",
    "    \n",
    "foo()"
   ]
  },
  {
   "cell_type": "code",
   "execution_count": 14,
   "metadata": {},
   "outputs": [
    {
     "name": "stdout",
     "output_type": "stream",
     "text": [
      "Vinay\n",
      "101\n"
     ]
    },
    {
     "data": {
      "text/plain": [
       "'The self parameter is a reference to the current instance of the class, and is used to access variables that belongs to the class.\\nIt does not have to be named self , you can call it whatever you like, but it has to be the first parameter of any function in the class'"
      ]
     },
     "execution_count": 14,
     "metadata": {},
     "output_type": "execute_result"
    }
   ],
   "source": [
    "#Classes\n",
    "\n",
    "class Person:\n",
    "    def __init__(self, name, roll):\n",
    "        self.name = name\n",
    "        self.roll = roll\n",
    "\n",
    "p1 = Person(\"Vinay\", 101)\n",
    "\n",
    "print(p1.name)\n",
    "print(p1.roll)\n",
    "\n",
    "\n",
    "\n",
    "\"\"\"The self parameter is a reference to the current instance of the class, and is used to access variables that belongs to the class.\n",
    "It does not have to be named self , you can call it whatever you like, but it has to be the first parameter of any function in the class\"\"\""
   ]
  },
  {
   "cell_type": "code",
   "execution_count": 13,
   "metadata": {
    "scrolled": true
   },
   "outputs": [
    {
     "name": "stdout",
     "output_type": "stream",
     "text": [
      "<function MyClass.func at 0x111bf0048>\n",
      "This is my second class\n",
      "<bound method MyClass.func of <__main__.MyClass object at 0x111bee710>>\n",
      "Hello\n"
     ]
    }
   ],
   "source": [
    "class MyClass:\n",
    "    \"This is my second class\"\n",
    "    a = 10\n",
    "    def func(self):\n",
    "        print('Hello')\n",
    "\n",
    "# create an instance of MyClass\n",
    "ob = MyClass()\n",
    "\n",
    "print(MyClass.func)\n",
    "\n",
    "print(MyClass.__doc__)\n",
    "\n",
    "print(ob.func)\n",
    "\n",
    "# Calling function func()\n",
    "\n",
    "ob.func()"
   ]
  },
  {
   "cell_type": "code",
   "execution_count": 25,
   "metadata": {},
   "outputs": [
    {
     "name": "stdout",
     "output_type": "stream",
     "text": [
      "Addition is  30\n",
      "Addition is  45\n"
     ]
    }
   ],
   "source": [
    "#variable length arguments\n",
    "class sample:\n",
    "    def addition(self, *args):\n",
    "        sum=0\n",
    "        for var in args:\n",
    "            sum=sum+var\n",
    "        return sum \n",
    "\n",
    "obj=sample()\n",
    "print(\"Addition is \",obj.addition(10,20))\n",
    "print(\"Addition is \",obj.addition(1,2,3,4,5,6,7,8,9))"
   ]
  },
  {
   "cell_type": "code",
   "execution_count": 15,
   "metadata": {},
   "outputs": [
    {
     "name": "stdout",
     "output_type": "stream",
     "text": [
      "Bird is ready\n",
      "Penguin is ready\n",
      "Penguin\n",
      "Swim faster\n",
      "Run faster\n"
     ]
    }
   ],
   "source": [
    "#inheritance\n",
    "# parent class\n",
    "class Bird:\n",
    "    \n",
    "    def __init__(self):\n",
    "        print(\"Bird is ready\")\n",
    "\n",
    "    def whoisThis(self):\n",
    "        print(\"Bird\")\n",
    "\n",
    "    def swim(self):\n",
    "        print(\"Swim faster\")\n",
    "\n",
    "# child class\n",
    "class Penguin(Bird):\n",
    "\n",
    "    def __init__(self):\n",
    "        # call super() function\n",
    "        super().__init__()\n",
    "        print(\"Penguin is ready\")\n",
    "\n",
    "    def whoisThis(self):\n",
    "        print(\"Penguin\")\n",
    "\n",
    "    def run(self):\n",
    "        print(\"Run faster\")\n",
    "\n",
    "peggy = Penguin()\n",
    "peggy.whoisThis()\n",
    "peggy.swim()\n",
    "peggy.run()"
   ]
  },
  {
   "cell_type": "code",
   "execution_count": 3,
   "metadata": {},
   "outputs": [
    {
     "name": "stdout",
     "output_type": "stream",
     "text": [
      "Hello world\n",
      "Robot action\n"
     ]
    }
   ],
   "source": [
    "#method overriding\n",
    "class Robot:\n",
    "    def action(self):\n",
    "        print('Robot action')\n",
    "\n",
    "class HelloRobot(Robot):\n",
    "    def action(self):\n",
    "        print('Hello world')\n",
    "\n",
    "class DummyRobot(Robot):\n",
    "    def start(self):\n",
    "        print('Started.')\n",
    "\n",
    "r = HelloRobot()\n",
    "d = DummyRobot()\n",
    "\n",
    "r.action()\n",
    "d.action()"
   ]
  },
  {
   "cell_type": "code",
   "execution_count": 8,
   "metadata": {},
   "outputs": [
    {
     "name": "stdout",
     "output_type": "stream",
     "text": [
      "arjun is flying\n",
      "arjun is flying\n"
     ]
    }
   ],
   "source": [
    "#method overloading\n",
    "class sample:\n",
    "    def fly(self):\n",
    "        print(\"kiran is flying\")\n",
    "    def fly(self,name):\n",
    "        print(\"arjun is flying\")\n",
    "\n",
    "\n",
    "obj=sample()\n",
    "obj.fly(\"kiran\")\n",
    "obj.fly(\"hello\")\n"
   ]
  },
  {
   "cell_type": "code",
   "execution_count": 23,
   "metadata": {},
   "outputs": [
    {
     "name": "stdout",
     "output_type": "stream",
     "text": [
      "30\n",
      "[1, 2, 3, 4, 5, 6, 7, 8]\n"
     ]
    }
   ],
   "source": [
    "#operator overloading\n",
    "class sample:\n",
    "    def addition(self, x, y):\n",
    "        return x+y\n",
    "\n",
    "obj=sample()\n",
    "l1=[1,2,3,4]\n",
    "l2=[5,6,7,8]\n",
    "print(obj.addition(10,20))\n",
    "print(obj.addition(l1,l2))"
   ]
  },
  {
   "cell_type": "code",
   "execution_count": 24,
   "metadata": {},
   "outputs": [
    {
     "name": "stdout",
     "output_type": "stream",
     "text": [
      "6\n",
      "kirankiran\n"
     ]
    }
   ],
   "source": [
    "#polymorphism\n",
    "\n",
    "class myclass():\n",
    "    def add(self,a,b):\n",
    "        return a*b\n",
    "    \n",
    "var=myclass()\n",
    "print(var.add(2,3))\n",
    "print(var.add(\"kiran\",2))"
   ]
  },
  {
   "cell_type": "code",
   "execution_count": 26,
   "metadata": {},
   "outputs": [
    {
     "name": "stdout",
     "output_type": "stream",
     "text": [
      "10\n",
      "this is from public method\n",
      "20\n",
      "this is from private method\n",
      "this is from public method\n",
      "20\n",
      "this is from private method\n"
     ]
    }
   ],
   "source": [
    "#Access modifiers\n",
    "class prefix:\n",
    "    def __init__(self):\n",
    "        self.public=10\n",
    "        self.__private=20\n",
    "    def public_method(self):\n",
    "        print(\"this is from public method\")\n",
    "        print(self.__private)\n",
    "        self.__private_method()\n",
    "\n",
    "    def __private_method(self):\n",
    "        print(\"this is from private method\")\n",
    "\n",
    "test=prefix()\n",
    "print(test.public)\n",
    "#print(test.__private)\n",
    "test.public_method()\n",
    "#test.__private_method()\n",
    "\n",
    "class second(prefix):\n",
    "    def add(self):\n",
    "        print(\"tis is from add method\")\n",
    "\n",
    "test1=second()\n",
    "test1.public_method()\n",
    "#test1.__private_method()"
   ]
  },
  {
   "cell_type": "code",
   "execution_count": 28,
   "metadata": {},
   "outputs": [
    {
     "name": "stdout",
     "output_type": "stream",
     "text": [
      "Exception occured while opening the file\n",
      "this is printed always\n",
      "This will be printed as it is outside the try and finally blocks.\n"
     ]
    }
   ],
   "source": [
    "#exception handling\n",
    "import sys\n",
    "try:\n",
    "    f=open(\"sample.txt\")\n",
    "    x=int(input(\"Enter the first number:\"))\n",
    "    y=int(input(\"Enter the second number:\"))\n",
    "    print(\"Division is: \",x/y)\n",
    "    print(\"Contents of the file are:\\n\", f.read())\n",
    "    print(\"HI\")\n",
    "    raise RuntimeError\n",
    "except IOError:\n",
    "    print(\"Exception occured while opening the file\")\n",
    "except ZeroDivisionError:\n",
    "    print(\"Divide by zero exception occured\")\n",
    "except:\n",
    "    print(\"This handles all exceptions\")\n",
    "    print(sys.exc_info()[0])\n",
    "finally:\n",
    "    #f.close()\n",
    "    print(\"this is printed always\")\n",
    "\n",
    "print(\"This will be printed as it is outside the try and finally blocks.\")\n"
   ]
  },
  {
   "cell_type": "code",
   "execution_count": 34,
   "metadata": {},
   "outputs": [
    {
     "name": "stdout",
     "output_type": "stream",
     "text": [
      "Enter a number less than 10 top raise exception:100\n",
      "Value is too large\n"
     ]
    }
   ],
   "source": [
    "#user defined exceptions\n",
    "\n",
    "class Error(Exception):\n",
    "   \"\"\"Base class for other exceptions\"\"\"\n",
    "   pass\n",
    "\n",
    "class ValueTooSmallError(Error):\n",
    "   pass\n",
    "class ValueTooLargeError(Error):\n",
    "   pass\n",
    "\n",
    "try:\n",
    "    num=int(input(\"Enter a number less than 10 top raise exception:\"))\n",
    "    if num<10:\n",
    "        raise ValueTooSmallError\n",
    "    else:\n",
    "        raise ValueTooLargeError\n",
    "except ValueTooSmallError:\n",
    "    print(\"value is too small\")\n",
    "except ValueTooLargeError:\n",
    "    print(\"Value is too large\")"
   ]
  },
  {
   "cell_type": "code",
   "execution_count": null,
   "metadata": {},
   "outputs": [],
   "source": []
  }
 ],
 "metadata": {
  "kernelspec": {
   "display_name": "Python 3",
   "language": "python",
   "name": "python3"
  },
  "language_info": {
   "codemirror_mode": {
    "name": "ipython",
    "version": 3
   },
   "file_extension": ".py",
   "mimetype": "text/x-python",
   "name": "python",
   "nbconvert_exporter": "python",
   "pygments_lexer": "ipython3",
   "version": "3.7.0a3"
  }
 },
 "nbformat": 4,
 "nbformat_minor": 2
}
